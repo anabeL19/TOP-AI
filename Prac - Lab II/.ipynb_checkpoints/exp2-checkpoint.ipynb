{
 "cells": [
  {
   "cell_type": "code",
   "execution_count": 72,
   "metadata": {},
   "outputs": [],
   "source": [
    "import pandas as pd\n",
    "import numpy as np\n",
    "import matplotlib.pyplot as plt\n",
    "from scipy.optimize import fmin_tnc\n",
    "import random\n",
    "\n",
    "def read_file(filename):\n",
    "    return pd.read_csv(filename)\n",
    "\n",
    "#read_file(\"data/petrol_consumption.csv\")"
   ]
  },
  {
   "cell_type": "code",
   "execution_count": 107,
   "metadata": {},
   "outputs": [],
   "source": [
    "def normalize_data(data):\n",
    "    mean = np.mean(data)\n",
    "    st = np.std(data)\n",
    "    return (data - mean)/st   "
   ]
  },
  {
   "cell_type": "code",
   "execution_count": 74,
   "metadata": {},
   "outputs": [],
   "source": [
    "def sigmoid(X, theta):\n",
    "    #return 1.0/ (1 + np.exp(-(np.dot(X, theta))))\n",
    "    return np.divide(1.0, 1 + np.exp(-np.matmul(X, theta)))"
   ]
  },
  {
   "cell_type": "code",
   "execution_count": 75,
   "metadata": {},
   "outputs": [],
   "source": [
    "def calculate_cost_function(X, y, theta):\n",
    "    m = X.shape[0]\n",
    "    pred = sigmoid(X, theta)\n",
    "    cross_entropy = np.sum( (y * np.log(pred)) + ((1-y) * np.log(1-pred)) )\n",
    "    #print(\"1: \",np.dot(y.T, np.log(pred)))\n",
    "    #print(\"2: \", np.dot((1-y).T, np.log(1-pred)))\n",
    "    return (-1/m) * cross_entropy"
   ]
  },
  {
   "cell_type": "code",
   "execution_count": 76,
   "metadata": {},
   "outputs": [],
   "source": [
    "def calculate_gradient(X, y, theta):\n",
    "    m = y.shape[0]  \n",
    "    #return X.T.dot(sigmoid(X, theta) - y)\n",
    "    #print(theta.shape)\n",
    "    #print(X.shape)\n",
    "    #print(sigmoid(X, theta).shape)\n",
    "    #print(X.T.shape)\n",
    "    #print(y.shape)\n",
    "    #print(\"mul: \", np.matmul(X.T, sigmoid(X, theta)))\n",
    "    #print(\"por si acaso: \", sigmoid(X, theta) - y)\n",
    "    #print(\"mul2: \", np.matmul(X.T, sigmoid(X, theta) - y))\n",
    "    return (1/m) * np.matmul(X.T, sigmoid(X, theta) - y)\n",
    "\n",
    "def gradient_descent( X, y, theta, nb_iterations, learning_rate):\n",
    "    '''Return the final theta vector and array of cost history over nro of iterations'''\n",
    "    #print(\"nb_it\")\n",
    "    #print(nb_iterations)\n",
    "    m = y.shape[0]\n",
    "    cost_history = np.zeros(nb_iterations)\n",
    "    for i in range(nb_iterations):\n",
    "        theta = theta - np.multiply(learning_rate, calculate_gradient(X, y, theta))\n",
    "        cost_history[i] = calculate_cost_function( X, y, theta) \n",
    "    return theta, cost_history"
   ]
  },
  {
   "cell_type": "code",
   "execution_count": 77,
   "metadata": {},
   "outputs": [],
   "source": [
    "#one vs all\n",
    "#one vs one\n",
    "def calculate_accuracy(X, y, theta):\n",
    "    #fit\n",
    "    #opt_weights = fmin_tnc(func=calculate_cost_function, x0=theta,fprime=gradient_descent,args=(X, y.flatten()))\n",
    "    #parameters = opt_weights[0]\n",
    "    #predict\n",
    "    #theta = parameters[:, np.newaxis]\n",
    "    predict = sigmoid(X, theta)\n",
    "    #print(\"predict: \",predict)\n",
    "    probab_threshold = 0.5  \n",
    "    predicted_classes = (predict >= probab_threshold)\n",
    "    result = np.logical_xor(np.logical_not(predicted_classes), y)\n",
    "    return np.sum(result) / y.shape[0]\n",
    "\n",
    "    #predicted_classes = predicted_classes.flatten()\n",
    "    #print(\"predict_classes: \",predicted_classes)\n",
    "    #accuracy = np.mean(predicted_classes == y)\n",
    "    #return accuracy * 100"
   ]
  },
  {
   "cell_type": "code",
   "execution_count": 89,
   "metadata": {},
   "outputs": [],
   "source": [
    "def optional_create_training_test(data):\n",
    "    np.random.shuffle(data)\n",
    "    col = data.shape[1]-1\n",
    "    k = len(data)\n",
    "    X_train = data[:int((60* k) / 100), :col]\n",
    "    y_train = data[:int((60* k) / 100), col]\n",
    "    X_test = data[int((60* k) / 100):, :col]\n",
    "    y_test = data[int((60* k) / 100):, col]\n",
    "        \n",
    "    return X_train, y_train, X_test, y_test"
   ]
  },
  {
   "cell_type": "code",
   "execution_count": 105,
   "metadata": {},
   "outputs": [],
   "source": [
    "def X_y(data):\n",
    "    col = data.shape[1]-1\n",
    "    x = data[:, :col]\n",
    "    y = data[:, col]\n",
    "    return x, y"
   ]
  },
  {
   "cell_type": "code",
   "execution_count": 98,
   "metadata": {},
   "outputs": [],
   "source": [
    "def create_kfolds(data, k):\n",
    "    kset = np.split(data, k)\n",
    "    #print(\"kset\", kset)\n",
    "    set_X = []\n",
    "    set_y = []\n",
    "    for ik in kset:\n",
    "        col = ik.shape[1]-1\n",
    "        x = ik[:, :col]\n",
    "        y = ik[:, col]\n",
    "        #print(\"create kfold x: \",x)\n",
    "        #print(\"create kfold y: \",y)\n",
    "        set_X.append(x)\n",
    "        set_y.append(y)\n",
    "        #print(\"set_X create kfold x: \",set_X)\n",
    "        #print(\"set_y create kfold y: \",set_y)\n",
    "    #print(\"kfold_setX: \",set_X)\n",
    "    #print(\"kfold_sety: \",set_y)\n",
    "    return set_X, set_y"
   ]
  },
  {
   "cell_type": "code",
   "execution_count": 80,
   "metadata": {},
   "outputs": [],
   "source": [
    "def create_theta(X):\n",
    "    #print(\"random: \",k)\n",
    "    return np.random.rand(X.shape[1])"
   ]
  },
  {
   "cell_type": "code",
   "execution_count": 68,
   "metadata": {},
   "outputs": [
    {
     "name": "stdout",
     "output_type": "stream",
     "text": [
      "Archivo:  data/diabetes.csv\n"
     ]
    },
    {
     "name": "stderr",
     "output_type": "stream",
     "text": [
      "/home/lebana/Documents/Top IA/Practics/env/lib/python3.6/site-packages/ipykernel_launcher.py:4: RuntimeWarning: divide by zero encountered in log\n",
      "  after removing the cwd from sys.path.\n",
      "/home/lebana/Documents/Top IA/Practics/env/lib/python3.6/site-packages/ipykernel_launcher.py:3: RuntimeWarning: overflow encountered in exp\n",
      "  This is separate from the ipykernel package so we can avoid doing imports until\n"
     ]
    },
    {
     "name": "stdout",
     "output_type": "stream",
     "text": [
      "   TL|It       500      1000      1500      2000      2500      3000      3500\n",
      "0   0.01  0.300781  0.263021  0.251302  0.251302  0.238281  0.235677  0.235677\n",
      "1   0.05  0.242188  0.235677  0.239583  0.238281  0.236979  0.239583  0.239583\n",
      "2   0.10  0.238281  0.238281  0.238281  0.240885  0.239583  0.240885  0.240885\n",
      "3   0.20  0.238281  0.239583  0.240885  0.240885  0.240885  0.240885  0.242188\n",
      "4   0.30  0.239583  0.240885  0.240885  0.240885  0.242188  0.242188  0.242188\n",
      "5   0.40  0.240885  0.240885  0.242188  0.242188  0.242188  0.243490  0.243490\n",
      "Archivo:  data/heart.csv\n",
      "   TL|It       500      1000      1500      2000      2500      3000      3500\n",
      "0   0.01  0.448845  0.422442  0.402640  0.396040  0.379538  0.389439  0.386139\n",
      "1   0.05  0.392739  0.389439  0.386139  0.389439  0.386139  0.386139  0.386139\n",
      "2   0.10  0.389439  0.386139  0.386139  0.386139  0.389439  0.386139  0.389439\n",
      "3   0.20  0.389439  0.386139  0.389439  0.389439  0.389439  0.389439  0.389439\n",
      "4   0.30  0.386139  0.389439  0.389439  0.389439  0.389439  0.389439  0.389439\n",
      "5   0.40  0.386139  0.389439  0.389439  0.389439  0.389439  0.389439  0.389439\n"
     ]
    }
   ],
   "source": [
    "#EXPERIMENT I\n",
    "def experimentI():\n",
    "    files = [\"data/diabetes.csv\", \"data/heart.csv\"]\n",
    "\n",
    "    for it_file in files:\n",
    "        k = 3\n",
    "        data = read_file(it_file)\n",
    "        data = normalize_data(data.values)\n",
    "        np.random.shuffle(data)\n",
    "        #cross validation\n",
    "        #set_X_train, set_y_train, set_X_test, set_y_test = create_kfolds(data)\n",
    "        set_X, set_y = create_kfolds(data, k)\n",
    "        #set_X_train = []\n",
    "        #set_y_train = []\n",
    "        #for i in range(0,len(set_X)):\n",
    "            #X_test = np.c_[set_X[i], np.ones(set_X[i].shape[0])]        #bias\n",
    "            #y_test = set_y[i]\n",
    "            #for t in range(0,3):\n",
    "                #if t!=i:\n",
    "                    #print(\"set_X[t]: \",set_X[t])\n",
    "                    #X_train = np.c_[set_X[t], np.ones(set_X[t].shape[0])]        #bias\n",
    "                    #print(\"X_train: \",X_train)\n",
    "                    #y_train = set_y[t]\n",
    "                    #set_X_train.append(X_train)\n",
    "                    #set_y_train.append(y_train)\n",
    "\n",
    "        nb_iterations = [500,1000,1500,2000,2500,3000,3500]\n",
    "        nb_its_label = nb_iterations.copy()\n",
    "        learning_rate = [0.01, 0.05, 0.1, 0.2, 0.3, 0.4]\n",
    "        result_tb = [learning_rate]\n",
    "        print(\"Archivo: \", it_file)\n",
    "        \n",
    "        for nb_it in nb_iterations:\n",
    "            rlearning_rate = []\n",
    "            for learn_rate in learning_rate:\n",
    "                #print(\"num_iter = \", nb_it)\n",
    "                #print(\"learn_rate = \", learn_rate)\n",
    "                accuracy_total = 0.0\n",
    "                for i in range(0,len(set_X)):\n",
    "                    X_train = np.zeros((set_X[i].shape[0], set_X[i].shape[1] - 1))\n",
    "                    y_train = np.zeros((set_X[i].shape[0], 1))\n",
    "                    X_test = np.c_[set_X[i], np.ones(set_X[i].shape[0])]        #bias\n",
    "                    y_test = set_y[i]\n",
    "                    for t in range(0,k):\n",
    "                        if t!=i:\n",
    "                            #print(\"set_X[t]: \",set_X[t])\n",
    "                            X_train = np.c_[set_X[t], np.ones(set_X[t].shape[0])]        #bias\n",
    "                            #print(\"X_train: \",X_train)\n",
    "                            y_train = set_y[t]\n",
    "                            #set_X_train.append(X_train)\n",
    "                            #set_y_train.append(y_train)\n",
    "                    theta = create_theta(X_train)\n",
    "                    theta, cost_history = gradient_descent(X_train, y_train, theta, nb_it, learn_rate)\n",
    "                    accuracy_train = calculate_accuracy(X_train, y_train, theta)\n",
    "                    #print(\"accuracy train: \",accuracy_train) \n",
    "                    cost_train = calculate_cost_function(X_train, y_train, theta)\n",
    "                    #print(\"Pesos de Gradiente descendiente: \", theta)\n",
    "                    #print(\"Cost training: \", cost_train)\n",
    "                    cost_test = calculate_cost_function(X_test, y_test, theta)\n",
    "                    accuracy_test = calculate_accuracy(X_test, y_test, theta) \n",
    "                \n",
    "                    accuracy_total += accuracy_test\n",
    "                accuracy_total /= k\n",
    "                rlearning_rate.append(accuracy_total)\n",
    "                #print(\"Pesos de Gradiente descendiente: \", theta)\n",
    "                #print(\"accuracy test: \",accuracy_test) \n",
    "                #print(\"Costo test: \", cost_test, \"\\n\")\n",
    "            result_tb.append(rlearning_rate)\n",
    "\n",
    "        m = np.asarray(result_tb)\n",
    "        pdObj = pd.DataFrame(m.T[:], columns=['TL|It','500','1000','1500','2000','2500','3000','3500']) \n",
    "        print(pdObj)\n",
    "\n",
    "experimentI()"
   ]
  },
  {
   "cell_type": "code",
   "execution_count": 95,
   "metadata": {},
   "outputs": [
    {
     "name": "stdout",
     "output_type": "stream",
     "text": [
      "training accuracy:  0.2717391304347826\n"
     ]
    },
    {
     "data": {
      "image/png": "[encoded data removed]",
      "text/plain": [
       "<Figure size 432x288 with 1 Axes>"
      ]
     },
     "metadata": {
      "needs_background": "light"
     },
     "output_type": "display_data"
    },
    {
     "name": "stdout",
     "output_type": "stream",
     "text": [
      "training accuracy:  0.4143646408839779\n"
     ]
    },
    {
     "data": {
      "image/png": "[encoded data removed]",
      "text/plain": [
       "<Figure size 432x288 with 1 Axes>"
      ]
     },
     "metadata": {
      "needs_background": "light"
     },
     "output_type": "display_data"
    }
   ],
   "source": [
    "#EXPERIMENTO II\n",
    "#iris>0.9\n",
    "#\n",
    "def experimentII():\n",
    "    files = [\"data/diabetes.csv\", \"data/heart.csv\"]\n",
    "\n",
    "    for it_file in files:\n",
    "        data = read_file(it_file)\n",
    "        data = normalize_data(data.values)\n",
    "        #costhistory = []\n",
    "        \n",
    "        set_X_train, y_train, set_X_test, y_test = optional_create_training_test(data)\n",
    "        y_train = np.reshape(y_train, y_train.shape[0])\n",
    "        y_test = np.reshape(y_test, y_test.shape[0])\n",
    "        X_train = np.c_[set_X_train, np.ones(set_X_train.shape[0])]\n",
    "        X_test = np.c_[set_X_test, np.ones(set_X_test.shape[0])]\n",
    "        \n",
    "        theta = create_theta(X_train)\n",
    "        nb_it = 1500\n",
    "        learn_rate = 0.01\n",
    "        theta, cost_history = gradient_descent(X_train, y_train, theta, nb_it, learn_rate)\n",
    "        #print(\"set_train: \", set_X_train[j].shape)\n",
    "        #print(\"theta: \", theta.shape)\n",
    "        accuracy = calculate_accuracy(X_train, y_train, theta)\n",
    "        print('training accuracy: ', accuracy)\n",
    "        #costhistory.append(cost_history)\n",
    "        plt.plot(range(len(cost_history)), cost_history)\n",
    "        plt.show()\n",
    "        #plt.plot(range(len(costhistory)), costhistory)\n",
    "        #plt.show()          \n",
    "\n",
    "experimentII()  "
   ]
  },
  {
   "cell_type": "markdown",
   "metadata": {},
   "source": [
    "### Clasificador multiclase UNO vs UNO"
   ]
  },
  {
   "cell_type": "code",
   "execution_count": null,
   "metadata": {},
   "outputs": [],
   "source": [
    "#EXPERIMENT 3 UNO vs UNO\n",
    "def experimentIIIa():\n",
    "    data = read_file(\"data/Iris.csv\")\n",
    "    data = data.sample(frac=1)\n",
    "    k = 3\n",
    "    learn_rate = 0.01\n",
    "    num_iter = 1500\n",
    "    \n",
    "    acc_test_total_vec = []\n",
    "    X, y = X_y(data.values)\n",
    "    y_values = np.unique(y)\n",
    "    \n",
    "    data_X = normalize_data(X)\n",
    "    _data = np.concatenate((data_X, y), axis=1)\n",
    "    \n",
    "    W_vec = []\n",
    " \n",
    "    data_sep_y = []\n",
    "    for i in range(y_values.shape[0]):\n",
    "        data_class = []\n",
    "        for j in range(_data.shape[0]):\n",
    "            if _data[j, _data.shape[1]-1] == y_values[i]:\n",
    "                data_class.append(_data[j])\n",
    "        data_sep_y.append(data_class)\n",
    "    set_X, set_y = create_kfolds(_data, k)\n",
    "    \n",
    "    vaccuracy_test = []\n",
    "    for l in range(y_values.shape[0]):\n",
    "        x = l+1\n",
    "        while x < y_values.shape[0]:\n",
    "            norm_data = np.concatenate((norm_data_sep_y[l], norm_data_sep_y[x]), axis=0)\n",
    "            np.random.shuffle(norm_data)\n",
    "            X, y = Separar_X_y(norm_data)\n",
    "            X_train, X_test = Crear_Entrenamiento_Prueba(X)\n",
    "            y_train, y_test = Crear_Entrenamiento_Prueba(y)\n",
    "\n",
    "            y_train = np.reshape(y_train, y_train.shape[0])\n",
    "            y_test = np.reshape(y_test, y_test.shape[0])\n",
    "\n",
    "            X_train = np.c_[X_train, np.ones(X_train.shape[0])]     #bias\n",
    "            X_test = np.c_[X_test, np.ones(X_test.shape[0])]        #bias\n",
    "\n",
    "            W = Crear_Pesos(X_train)\n",
    "            X_train = X_train.astype(float)\n",
    "            y_train = y_train == y_values[x]\n",
    "            y_train = y_train.astype(int)\n",
    "            W, costs = Gradiente_Descendiente(X_train, y_train, W, num_iter, learn_rate)\n",
    "            W_vec.append(W)\n",
    "            X_test = X_test.astype('float')\n",
    "            y_test = y_test == y_values[x]\n",
    "            y_test = y_test.astype(int)\n",
    "            acc_test = Calcular_Accuraccy(X_test, y_test, W)\n",
    "            vaccuracy_test.append(acc_test)\n",
    "\n",
    "            x += 1\n",
    "\n",
    "\n",
    "    print(\"Clasificación multiclase 'uno vs uno'\")\n",
    "    print(\"Accuracy en los datos de prueba para 'Iris-setosa vs Iris-versicolor' 'Iris-setosa vs Iris-virginica' 'Iris-versicolor vs Iris-virginica' respectivamente:\")\n",
    "    print(acc_test_vec)\n",
    "experimentIII"
   ]
  },
  {
   "cell_type": "code",
   "execution_count": 114,
   "metadata": {},
   "outputs": [
    {
     "name": "stdout",
     "output_type": "stream",
     "text": [
      "(150, 4)\n",
      "(150,)\n"
     ]
    },
    {
     "ename": "ValueError",
     "evalue": "all the input arrays must have same number of dimensions, but the array at index 0 has 2 dimension(s) and the array at index 1 has 1 dimension(s)",
     "output_type": "error",
     "traceback": [
      "\u001b[0;31m---------------------------------------------------------------------------\u001b[0m",
      "\u001b[0;31mValueError\u001b[0m                                Traceback (most recent call last)",
      "\u001b[0;32m<ipython-input-114-c0b78aa164d0>\u001b[0m in \u001b[0;36m<module>\u001b[0;34m\u001b[0m\n\u001b[1;32m     52\u001b[0m     \u001b[0mresult_tb\u001b[0m\u001b[0;34m.\u001b[0m\u001b[0mappend\u001b[0m\u001b[0;34m(\u001b[0m\u001b[0mvaccuracy_total\u001b[0m\u001b[0;34m)\u001b[0m\u001b[0;34m\u001b[0m\u001b[0;34m\u001b[0m\u001b[0m\n\u001b[1;32m     53\u001b[0m \u001b[0;34m\u001b[0m\u001b[0m\n\u001b[0;32m---> 54\u001b[0;31m \u001b[0mexperimentIII\u001b[0m\u001b[0;34m(\u001b[0m\u001b[0;34m)\u001b[0m\u001b[0;34m\u001b[0m\u001b[0;34m\u001b[0m\u001b[0m\n\u001b[0m",
      "\u001b[0;32m<ipython-input-114-c0b78aa164d0>\u001b[0m in \u001b[0;36mexperimentIII\u001b[0;34m()\u001b[0m\n\u001b[1;32m     14\u001b[0m     \u001b[0mprint\u001b[0m\u001b[0;34m(\u001b[0m\u001b[0mdata_X\u001b[0m\u001b[0;34m.\u001b[0m\u001b[0mshape\u001b[0m\u001b[0;34m)\u001b[0m\u001b[0;34m\u001b[0m\u001b[0;34m\u001b[0m\u001b[0m\n\u001b[1;32m     15\u001b[0m     \u001b[0mprint\u001b[0m\u001b[0;34m(\u001b[0m\u001b[0my\u001b[0m\u001b[0;34m.\u001b[0m\u001b[0mshape\u001b[0m\u001b[0;34m)\u001b[0m\u001b[0;34m\u001b[0m\u001b[0;34m\u001b[0m\u001b[0m\n\u001b[0;32m---> 16\u001b[0;31m     \u001b[0m_data\u001b[0m \u001b[0;34m=\u001b[0m \u001b[0mnp\u001b[0m\u001b[0;34m.\u001b[0m\u001b[0mconcatenate\u001b[0m\u001b[0;34m(\u001b[0m\u001b[0;34m(\u001b[0m\u001b[0mdata_X\u001b[0m\u001b[0;34m,\u001b[0m \u001b[0my\u001b[0m\u001b[0;34m)\u001b[0m\u001b[0;34m,\u001b[0m \u001b[0maxis\u001b[0m\u001b[0;34m=\u001b[0m\u001b[0;36m1\u001b[0m\u001b[0;34m)\u001b[0m \u001b[0;31m#y is string\u001b[0m\u001b[0;34m\u001b[0m\u001b[0;34m\u001b[0m\u001b[0m\n\u001b[0m\u001b[1;32m     17\u001b[0m     \u001b[0mset_X\u001b[0m\u001b[0;34m,\u001b[0m \u001b[0mset_y\u001b[0m \u001b[0;34m=\u001b[0m \u001b[0mcreate_kfolds\u001b[0m\u001b[0;34m(\u001b[0m\u001b[0m_data\u001b[0m\u001b[0;34m,\u001b[0m \u001b[0mk\u001b[0m\u001b[0;34m)\u001b[0m\u001b[0;34m\u001b[0m\u001b[0;34m\u001b[0m\u001b[0m\n\u001b[1;32m     18\u001b[0m \u001b[0;34m\u001b[0m\u001b[0m\n",
      "\u001b[0;32m<__array_function__ internals>\u001b[0m in \u001b[0;36mconcatenate\u001b[0;34m(*args, **kwargs)\u001b[0m\n",
      "\u001b[0;31mValueError\u001b[0m: all the input arrays must have same number of dimensions, but the array at index 0 has 2 dimension(s) and the array at index 1 has 1 dimension(s)"
     ]
    }
   ],
   "source": [
    "#EXPERIMENT 3 UNO vs TODOS\n",
    "def experimentIIIb():\n",
    "    #col = file[\"Species\"].value_counts()\n",
    "    #print(col[0])\n",
    "    data = read_file(\"data/Iris.csv\")\n",
    "    data = data.sample(frac=1)\n",
    "    k=3\n",
    "    nb_it = 1500\n",
    "    learn_rate = 0.01\n",
    "    \n",
    "    X, y = X_y(data.values)\n",
    "    \n",
    "    data_X = normalize_data(X)\n",
    "    print(data_X.shape)\n",
    "    print(y.shape)\n",
    "    _data = np.concatenate((data_X, y), axis=1) #y is string\n",
    "    set_X, set_y = create_kfolds(_data, k)\n",
    "    \n",
    "    y_values = np.unique(set_y)\n",
    "    vaccuracy_total = []\n",
    "    \n",
    "    for iy in range(y_values.shape[0]):\n",
    "        accuracy_total = 0.0\n",
    "        for i in range(0,len(set_X)):\n",
    "            X_train = np.zeros((set_X[i].shape[0] * (k-1), set_X[i].shape[1] - 1))\n",
    "            y_train = np.zeros((set_X[i].shape[0], 1))\n",
    "            X_test = np.c_[set_X[i], np.ones(set_X[i].shape[0])]        #bias\n",
    "            y_test = set_y[i] == y_values[iy]\n",
    "            for t in range(0,k):\n",
    "                if t!=i:\n",
    "                    #print(\"set_X[t]: \",set_X[t])\n",
    "                    X_train = np.c_[set_X[t], np.ones(set_X[t].shape[0])]        #bias\n",
    "                    #print(\"X_train: \",X_train)\n",
    "                    y_train = set_y[t] == y_values[iy]\n",
    "                    #set_X_train.append(X_train)\n",
    "                    #set_y_train.append(y_train)\n",
    "            theta = create_theta(X_train)\n",
    "            theta, cost_history = gradient_descent(X_train, y_train, theta, nb_it, learn_rate)\n",
    "            accuracy_train = calculate_accuracy(X_train, y_train, theta)\n",
    "                    #print(\"accuracy train: \",accuracy_train) \n",
    "            cost_train = calculate_cost_function(X_train, y_train, theta)\n",
    "                    #print(\"Pesos de Gradiente descendiente: \", theta)\n",
    "                    #print(\"Cost training: \", cost_train)\n",
    "            cost_test = calculate_cost_function(X_test, y_test, theta)\n",
    "            accuracy_test = calculate_accuracy(X_test, y_test, theta) \n",
    "                \n",
    "            accuracy_total += accuracy_test\n",
    "        accuracy_total /= k\n",
    "        vaccuracy_total.append(accuracy_total)\n",
    "        print(\"Pesos de Gradiente descendiente: \", theta)\n",
    "        print(\"Costo test: \", cost_test, \"\\n\")\n",
    "    result_tb.append(vaccuracy_total)\n",
    "\n",
    "experimentIII()              "
   ]
  },
  {
   "cell_type": "code",
   "execution_count": null,
   "metadata": {},
   "outputs": [],
   "source": [
    "experimentI()\n",
    "experimentII()\n",
    "experimentIII()"
   ]
  },
  {
   "cell_type": "code",
   "execution_count": null,
   "metadata": {},
   "outputs": [],
   "source": []
  }
 ],
 "metadata": {
  "kernelspec": {
   "display_name": "Python 3",
   "language": "python",
   "name": "python3"
  },
  "language_info": {
   "codemirror_mode": {
    "name": "ipython",
    "version": 3
   },
   "file_extension": ".py",
   "mimetype": "text/x-python",
   "name": "python",
   "nbconvert_exporter": "python",
   "pygments_lexer": "ipython3",
   "version": "3.8.5"
  }
 },
 "nbformat": 4,
 "nbformat_minor": 2
}
