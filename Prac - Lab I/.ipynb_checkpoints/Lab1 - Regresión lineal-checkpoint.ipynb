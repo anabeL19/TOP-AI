{
 "cells": [
  {
   "cell_type": "code",
   "execution_count": 532,
   "metadata": {},
   "outputs": [],
   "source": [
    "import numpy as np\n",
    "import pandas as pd\n",
    "import matplotlib.pyplot as plt"
   ]
  },
  {
   "cell_type": "markdown",
   "metadata": {},
   "source": [
    "### Pasos\n",
    "- Cargar datos \n",
    "- Normalizar datos \n",
    "- Agregar una columna de unos\n",
    "- Calcular la prediccion (theta tanspuesta por X vector) \n",
    "- Calcular el costo (error)\n",
    "- Dos formas para calcular los parámetros (thetas)\n",
    "    - Ecuacion normal (X entrenaminto * producto matricil-< inversa - Xt entrenamiento Y(años que vivere))\n",
    "    - Gradiente Descendiente "
   ]
  },
  {
   "cell_type": "code",
   "execution_count": 533,
   "metadata": {},
   "outputs": [],
   "source": [
    "def load_data(filename):\n",
    "    return pd.read_csv(filename, delim_whitespace=True)"
   ]
  },
  {
   "cell_type": "code",
   "execution_count": 534,
   "metadata": {},
   "outputs": [],
   "source": [
    "def normalization(data):\n",
    "    mean_ = data.mean(axis=0) \n",
    "    std_ = data.std(axis=0) #estandar\n",
    "    return (data - mean_)/std_"
   ]
  },
  {
   "cell_type": "code",
   "execution_count": 535,
   "metadata": {},
   "outputs": [],
   "source": [
    "def train_test(data):\n",
    "    col = data.shape[1]-1\n",
    "    X_train = data[:int((70*len(data))/100), :col]\n",
    "    y_train = data[:int((70*len(data))/100), col]\n",
    "    X_test = data[int((70*len(data))/100):, :col]\n",
    "    y_test = data[int((70*len(data))/100):, col]\n",
    "    return X_train, y_train, X_test, y_test"
   ]
  },
  {
   "cell_type": "code",
   "execution_count": 536,
   "metadata": {},
   "outputs": [],
   "source": [
    "# Add a column of ones (bias)\n",
    "def add_ones(X_train, y_train, X_test, y_test):\n",
    "    n_exa_train = len(y_train)\n",
    "    n_exa_test = len(y_test)\n",
    "\n",
    "    X_train = np.concatenate((np.ones([n_exa_train, 1]), X_train), axis=1)\n",
    "    X_test = np.concatenate((np.ones([n_exa_test, 1]), X_test), axis=1)\n",
    "    \n",
    "    return X_train, X_test"
   ]
  },
  {
   "cell_type": "code",
   "execution_count": 537,
   "metadata": {},
   "outputs": [],
   "source": [
    "def prediction(theta, X):\n",
    "    return np.dot(X, theta)"
   ]
  },
  {
   "cell_type": "code",
   "execution_count": 538,
   "metadata": {},
   "outputs": [],
   "source": [
    "def calculate_cost(X, y, theta):\n",
    "    #J(theta) = 1/2m sum(h(x) - y)^2\n",
    "    m = X.shape[0] #nbr of training data \n",
    "    pred = prediction(theta, X)\n",
    "    c = (1/(2*m)) * np.sum(np.square(pred - y))\n",
    "    return c"
   ]
  },
  {
   "cell_type": "code",
   "execution_count": 539,
   "metadata": {},
   "outputs": [],
   "source": [
    "def gradient_descent(X, y, theta, nro_iter, learning_rate): \n",
    "    m = X.shape[0] #nbr of training data\n",
    "    #cost_history = np.empty(nro_iter, dtype=float) \n",
    "    cost_history = np.zeros(nro_iter) \n",
    "    #h = calculate_cost(X, y, theta)\n",
    "    for i in range(nro_iter):\n",
    "        pred = prediction(theta, X)\n",
    "        pred = pred - y        \n",
    "        theta = theta - (learning_rate * (np.dot(X.T,pred)/m))\n",
    "        cost_history[i] = calculate_cost( X, y, theta) \n",
    "    return theta, cost_history"
   ]
  },
  {
   "cell_type": "code",
   "execution_count": 540,
   "metadata": {},
   "outputs": [],
   "source": [
    "def normal_equation(X, y):\n",
    "    theta = np.matmul(np.linalg.inv(np.matmul(X.T, X)), np.matmul(X.T, y))\n",
    "    #theta = np.linalg.inv(X.T.dot(X)).dot((X.T).dot(y))\n",
    "    return theta"
   ]
  },
  {
   "cell_type": "markdown",
   "metadata": {},
   "source": [
    "#### EXPERIMENTO I"
   ]
  },
  {
   "cell_type": "code",
   "execution_count": 541,
   "metadata": {},
   "outputs": [
    {
     "name": "stdout",
     "output_type": "stream",
     "text": [
      "Weight Normal Equation:  [-0.08660972 -0.09203601 -0.36687041  0.1072892   0.64775736]\n",
      "Cost:  0.1033688822072403\n"
     ]
    }
   ],
   "source": [
    "def NE_find_parameters():\n",
    "    fdata = load_data('petrol_consumption.csv')\n",
    "    data = normalization(fdata)\n",
    "    data = data.values\n",
    "    X_train, y_train, X_test, y_test = train_test(data)\n",
    "    X_train, X_test = add_ones(X_train, y_train, X_test, y_test)\n",
    "\n",
    "    theta = normal_equation(X_train, y_train)\n",
    "    print(\"Weight Normal Equation: \", theta)\n",
    "    cost = calculate_cost(X_train, y_train, theta)\n",
    "    print(\"Cost: \", cost)\n",
    "NE_find_parameters()"
   ]
  },
  {
   "cell_type": "code",
   "execution_count": 543,
   "metadata": {},
   "outputs": [
    {
     "name": "stdout",
     "output_type": "stream",
     "text": [
      "n_features\n",
      "[0. 0. 0. 0. 0.]\n"
     ]
    },
    {
     "data": {
      "text/html": [
       "<div>\n",
       "<style scoped>\n",
       "    .dataframe tbody tr th:only-of-type {\n",
       "        vertical-align: middle;\n",
       "    }\n",
       "\n",
       "    .dataframe tbody tr th {\n",
       "        vertical-align: top;\n",
       "    }\n",
       "\n",
       "    .dataframe thead th {\n",
       "        text-align: right;\n",
       "    }\n",
       "</style>\n",
       "<table border=\"1\" class=\"dataframe\">\n",
       "  <thead>\n",
       "    <tr style=\"text-align: right;\">\n",
       "      <th></th>\n",
       "      <th>500</th>\n",
       "      <th>1000</th>\n",
       "      <th>1500</th>\n",
       "      <th>2000</th>\n",
       "      <th>2500</th>\n",
       "      <th>3000</th>\n",
       "      <th>3500</th>\n",
       "    </tr>\n",
       "  </thead>\n",
       "  <tbody>\n",
       "    <tr>\n",
       "      <th>0.01</th>\n",
       "      <td>0.103369</td>\n",
       "      <td>0.103369</td>\n",
       "      <td>0.103369</td>\n",
       "      <td>0.103369</td>\n",
       "      <td>0.103369</td>\n",
       "      <td>0.103369</td>\n",
       "      <td>0.103369</td>\n",
       "    </tr>\n",
       "    <tr>\n",
       "      <th>0.05</th>\n",
       "      <td>0.103369</td>\n",
       "      <td>0.103369</td>\n",
       "      <td>0.103369</td>\n",
       "      <td>0.103369</td>\n",
       "      <td>0.103369</td>\n",
       "      <td>0.103369</td>\n",
       "      <td>0.103369</td>\n",
       "    </tr>\n",
       "    <tr>\n",
       "      <th>0.10</th>\n",
       "      <td>0.103369</td>\n",
       "      <td>0.103369</td>\n",
       "      <td>0.103369</td>\n",
       "      <td>0.103369</td>\n",
       "      <td>0.103369</td>\n",
       "      <td>0.103369</td>\n",
       "      <td>0.103369</td>\n",
       "    </tr>\n",
       "    <tr>\n",
       "      <th>0.20</th>\n",
       "      <td>0.103369</td>\n",
       "      <td>0.103369</td>\n",
       "      <td>0.103369</td>\n",
       "      <td>0.103369</td>\n",
       "      <td>0.103369</td>\n",
       "      <td>0.103369</td>\n",
       "      <td>0.103369</td>\n",
       "    </tr>\n",
       "    <tr>\n",
       "      <th>0.30</th>\n",
       "      <td>0.103369</td>\n",
       "      <td>0.103369</td>\n",
       "      <td>0.103369</td>\n",
       "      <td>0.103369</td>\n",
       "      <td>0.103369</td>\n",
       "      <td>0.103369</td>\n",
       "      <td>0.103369</td>\n",
       "    </tr>\n",
       "    <tr>\n",
       "      <th>0.40</th>\n",
       "      <td>0.103369</td>\n",
       "      <td>0.103369</td>\n",
       "      <td>0.103369</td>\n",
       "      <td>0.103369</td>\n",
       "      <td>0.103369</td>\n",
       "      <td>0.103369</td>\n",
       "      <td>0.103369</td>\n",
       "    </tr>\n",
       "  </tbody>\n",
       "</table>\n",
       "</div>"
      ],
      "text/plain": [
       "          500       1000      1500      2000      2500      3000      3500\n",
       "0.01  0.103369  0.103369  0.103369  0.103369  0.103369  0.103369  0.103369\n",
       "0.05  0.103369  0.103369  0.103369  0.103369  0.103369  0.103369  0.103369\n",
       "0.10  0.103369  0.103369  0.103369  0.103369  0.103369  0.103369  0.103369\n",
       "0.20  0.103369  0.103369  0.103369  0.103369  0.103369  0.103369  0.103369\n",
       "0.30  0.103369  0.103369  0.103369  0.103369  0.103369  0.103369  0.103369\n",
       "0.40  0.103369  0.103369  0.103369  0.103369  0.103369  0.103369  0.103369"
      ]
     },
     "execution_count": 543,
     "metadata": {},
     "output_type": "execute_result"
    }
   ],
   "source": [
    "def GD_find_parameters():\n",
    "    fdata = load_data('petrol_consumption.csv')\n",
    "    data = normalization(fdata)\n",
    "    data = data.values\n",
    "    X_train, y_train, X_test, y_test = train_test(data)\n",
    "    X_train, X_test = add_ones(X_train, y_train, X_test, y_test)\n",
    "\n",
    "    n_features = X_train.shape[1]\n",
    "    theta = np.zeros(n_features)\n",
    "    #theta = np.random.rand(n_features)\n",
    "\n",
    "    epochs = [500,800,1100,14000,1700,2000,2300,2600,2900,3200]  \n",
    "    learn_rates = [0.05, 0.1, 0.2, 0.3, 0.4, 0.5]\n",
    "    \n",
    "    result_train = np.empty([len(learn_rates),len(epochs)])\n",
    "    result_test = np.empty([len(learn_rates),len(epochs)])\n",
    "    for epoch in epochs:\n",
    "        for learn_rate in learn_rates:\n",
    "            theta_gd, cost_history = gradient_descent(X_train, y_train, theta, epoch, learn_rate)\n",
    "            error_train = calculate_cost(X_train, y_train, theta_gd)\n",
    "            error_test = calculate_cost(X_test, y_test, theta_gd)\n",
    "            \n",
    "            result_train = error_train\n",
    "            result_test = error_test\n",
    "    pdObj = pd.DataFrame(result_train, index = learn_rates, columns = epochs) \n",
    "    pdObj1 = pd.DataFrame(result_test, index = learn_rates, columns = epochs) \n",
    "    return pdObj\n",
    "GD_find_parameters()"
   ]
  },
  {
   "cell_type": "code",
   "execution_count": 544,
   "metadata": {},
   "outputs": [
    {
     "name": "stdout",
     "output_type": "stream",
     "text": [
      "Weights of gradient_descent - training data:  [-0.08660973 -0.09203596 -0.36687042  0.10728924  0.64775737] \n",
      "\n",
      "Weights of gradient_descent - testing data:  [-0.08660973 -0.09203596 -0.36687042  0.10728924  0.64775737] \n",
      "\n"
     ]
    },
    {
     "data": {
      "image/png": "[encoded data removed]",
      "text/plain": [
       "<Figure size 432x288 with 1 Axes>"
      ]
     },
     "metadata": {
      "needs_background": "light"
     },
     "output_type": "display_data"
    },
    {
     "name": "stdout",
     "output_type": "stream",
     "text": [
      "Weights of gradient_descent - training data:  [-0.08660972 -0.09203601 -0.36687041  0.1072892   0.64775736] \n",
      "\n",
      "Weights of gradient_descent - testing data:  [-0.08660972 -0.09203601 -0.36687041  0.1072892   0.64775736] \n",
      "\n"
     ]
    },
    {
     "data": {
      "image/png": "[encoded data removed]",
      "text/plain": [
       "<Figure size 432x288 with 1 Axes>"
      ]
     },
     "metadata": {
      "needs_background": "light"
     },
     "output_type": "display_data"
    },
    {
     "name": "stdout",
     "output_type": "stream",
     "text": [
      "Weights of gradient_descent - training data:  [-0.08660972 -0.09203601 -0.36687041  0.1072892   0.64775736] \n",
      "\n",
      "Weights of gradient_descent - testing data:  [-0.08660972 -0.09203601 -0.36687041  0.1072892   0.64775736] \n",
      "\n"
     ]
    },
    {
     "data": {
      "image/png": "[encoded data removed]",
      "text/plain": [
       "<Figure size 432x288 with 1 Axes>"
      ]
     },
     "metadata": {
      "needs_background": "light"
     },
     "output_type": "display_data"
    },
    {
     "name": "stdout",
     "output_type": "stream",
     "text": [
      "Weights of gradient_descent - training data:  [-0.08660972 -0.09203601 -0.36687041  0.1072892   0.64775736] \n",
      "\n",
      "Weights of gradient_descent - testing data:  [-0.08660972 -0.09203601 -0.36687041  0.1072892   0.64775736] \n",
      "\n"
     ]
    },
    {
     "data": {
      "image/png": "[encoded data removed]",
      "text/plain": [
       "<Figure size 432x288 with 1 Axes>"
      ]
     },
     "metadata": {
      "needs_background": "light"
     },
     "output_type": "display_data"
    },
    {
     "name": "stdout",
     "output_type": "stream",
     "text": [
      "Weights of gradient_descent - training data:  [-0.08660972 -0.09203601 -0.36687041  0.1072892   0.64775736] \n",
      "\n",
      "Weights of gradient_descent - testing data:  [-0.08660972 -0.09203601 -0.36687041  0.1072892   0.64775736] \n",
      "\n"
     ]
    },
    {
     "data": {
      "image/png": "[encoded data removed]",
      "text/plain": [
       "<Figure size 432x288 with 1 Axes>"
      ]
     },
     "metadata": {
      "needs_background": "light"
     },
     "output_type": "display_data"
    },
    {
     "name": "stdout",
     "output_type": "stream",
     "text": [
      "Weights of gradient_descent - training data:  [-0.08660972 -0.09203601 -0.36687041  0.1072892   0.64775736] \n",
      "\n",
      "Weights of gradient_descent - testing data:  [-0.08660972 -0.09203601 -0.36687041  0.1072892   0.64775736] \n",
      "\n"
     ]
    },
    {
     "data": {
      "image/png": "[encoded data removed]",
      "text/plain": [
       "<Figure size 432x288 with 1 Axes>"
      ]
     },
     "metadata": {
      "needs_background": "light"
     },
     "output_type": "display_data"
    },
    {
     "name": "stdout",
     "output_type": "stream",
     "text": [
      "Weights of gradient_descent - training data:  [-0.08660972 -0.09203601 -0.36687041  0.1072892   0.64775736] \n",
      "\n",
      "Weights of gradient_descent - testing data:  [-0.08660972 -0.09203601 -0.36687041  0.1072892   0.64775736] \n",
      "\n"
     ]
    },
    {
     "data": {
      "image/png": "[encoded data removed]",
      "text/plain": [
       "<Figure size 432x288 with 1 Axes>"
      ]
     },
     "metadata": {
      "needs_background": "light"
     },
     "output_type": "display_data"
    },
    {
     "name": "stdout",
     "output_type": "stream",
     "text": [
      "Weights of gradient_descent - training data:  [-0.08660972 -0.09203601 -0.36687041  0.1072892   0.64775736] \n",
      "\n",
      "Weights of gradient_descent - testing data:  [-0.08660972 -0.09203601 -0.36687041  0.1072892   0.64775736] \n",
      "\n"
     ]
    },
    {
     "data": {
      "image/png": "[encoded data removed]",
      "text/plain": [
       "<Figure size 432x288 with 1 Axes>"
      ]
     },
     "metadata": {
      "needs_background": "light"
     },
     "output_type": "display_data"
    },
    {
     "name": "stdout",
     "output_type": "stream",
     "text": [
      "Weights of gradient_descent - training data:  [-0.08660972 -0.09203601 -0.36687041  0.1072892   0.64775736] \n",
      "\n",
      "Weights of gradient_descent - testing data:  [-0.08660972 -0.09203601 -0.36687041  0.1072892   0.64775736] \n",
      "\n"
     ]
    },
    {
     "data": {
      "image/png": "[encoded data removed]",
      "text/plain": [
       "<Figure size 432x288 with 1 Axes>"
      ]
     },
     "metadata": {
      "needs_background": "light"
     },
     "output_type": "display_data"
    },
    {
     "name": "stdout",
     "output_type": "stream",
     "text": [
      "Weights of gradient_descent - training data:  [-0.08660972 -0.09203601 -0.36687041  0.1072892   0.64775736] \n",
      "\n",
      "Weights of gradient_descent - testing data:  [-0.08660972 -0.09203601 -0.36687041  0.1072892   0.64775736] \n",
      "\n"
     ]
    },
    {
     "data": {
      "image/png": "[encoded data removed]",
      "text/plain": [
       "<Figure size 432x288 with 1 Axes>"
      ]
     },
     "metadata": {
      "needs_background": "light"
     },
     "output_type": "display_data"
    }
   ],
   "source": [
    "def GD_ploteo():\n",
    "    fdata = load_data('petrol_consumption.csv')\n",
    "    data = normalization(fdata)\n",
    "    data = data.values\n",
    "    X_train, y_train, X_test, y_test = train_test(data)\n",
    "    X_train, X_test = add_ones(X_train, y_train, X_test, y_test)\n",
    "\n",
    "    n_features = X_train.shape[1]\n",
    "    #theta = np.zeros(n_features)\n",
    "    theta = np.random.rand(n_features)\n",
    "\n",
    "    epochs = [500,800,1100,14000,1700,2000,2300,2600,2900,3200] \n",
    "    learn_rate = 0.1\n",
    "\n",
    "    for epoch in epochs:\n",
    "        theta_gd, cost_history = gradient_descent(X_train, y_train, theta, epoch, learn_rate)\n",
    "        theta_gd1, cost_history1 = gradient_descent(X_test, y_test, theta, epoch, learn_rate)\n",
    "        error_train = calculate_cost(X_train, y_train, theta_gd)\n",
    "        error_test = calculate_cost(X_test, y_test, theta_gd)\n",
    "        \n",
    "        fig, ax = plt.subplots()\n",
    "        plt.plot(range(len(cost_history)), cost_history)\n",
    "        plt.plot(range(len(cost_history1)), cost_history1)\n",
    "        plt.title('TRAIN - TEST '+str(epoch), {'fontsize':10})\n",
    "        print(\"Weights of gradient_descent - training data: \", theta_gd, \"\\n\")\n",
    "        print(\"Weights of gradient_descent - testing data: \", theta_gd, \"\\n\")\n",
    "        ax.grid(True)\n",
    "        plt.show()\n",
    "GD_ploteo()"
   ]
  },
  {
   "cell_type": "code",
   "execution_count": null,
   "metadata": {},
   "outputs": [],
   "source": []
  }
 ],
 "metadata": {
  "kernelspec": {
   "display_name": "Python 3",
   "language": "python",
   "name": "python3"
  },
  "language_info": {
   "codemirror_mode": {
    "name": "ipython",
    "version": 3
   },
   "file_extension": ".py",
   "mimetype": "text/x-python",
   "name": "python",
   "nbconvert_exporter": "python",
   "pygments_lexer": "ipython3",
   "version": "3.8.5"
  }
 },
 "nbformat": 4,
 "nbformat_minor": 4
}
